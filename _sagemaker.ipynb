{
 "cells": [
  {
   "cell_type": "markdown",
   "id": "fc72a406",
   "metadata": {},
   "source": [
    "## STEPS TO BE FOLLOWED"
   ]
  },
  {
   "cell_type": "markdown",
   "id": "6a9aa9d5",
   "metadata": {},
   "source": [
    "# \n",
    "1.IMPORTING NECCESARY LIBRARIES\n",
    "\n",
    "2.CREATING S3 BUCKET\n",
    "\n",
    "3.MAAPING Train and Test data in s3\n",
    "\n",
    "4.Mapping the path of the modules in s3\n"
   ]
  },
  {
   "cell_type": "code",
   "execution_count": 4,
   "id": "a2ba8b7c",
   "metadata": {},
   "outputs": [],
   "source": [
    "import sagemaker\n",
    "import boto3\n",
    "from sagemaker.amazon.amazon_estimator import get_image_uri\n",
    "from sagemaker.session import s3_input,Session"
   ]
  },
  {
   "cell_type": "code",
   "execution_count": 61,
   "id": "49b747c4",
   "metadata": {},
   "outputs": [],
   "source": [
    "bucket_name='bankapplif'\n",
    "my_region=boto3.session.Session().region_name"
   ]
  },
  {
   "cell_type": "code",
   "execution_count": 62,
   "id": "94a33da0",
   "metadata": {},
   "outputs": [
    {
     "name": "stdout",
     "output_type": "stream",
     "text": [
      "ap-south-1\n"
     ]
    }
   ],
   "source": [
    "print(my_region)"
   ]
  },
  {
   "cell_type": "code",
   "execution_count": 63,
   "id": "74fdb4b1",
   "metadata": {},
   "outputs": [],
   "source": [
    "##creating bucket we also manually do that"
   ]
  },
  {
   "cell_type": "code",
   "execution_count": 64,
   "id": "3f2de7dd",
   "metadata": {},
   "outputs": [
    {
     "name": "stdout",
     "output_type": "stream",
     "text": [
      "s3 error: An error occurred (IllegalLocationConstraintException) when calling the CreateBucket operation: The unspecified location constraint is incompatible for the region specific endpoint this request was sent to.\n"
     ]
    }
   ],
   "source": [
    "s3=boto3.resource('s3')\n",
    "try:\n",
    "    if  my_region == 'ap-south-1':\n",
    "        s3.create_bucket(Bucket=bucket_name)\n",
    "    print('created bucket')\n",
    "except Exception as e:\n",
    "    print('s3 error:',e)"
   ]
  },
  {
   "cell_type": "markdown",
   "id": "c988122b",
   "metadata": {},
   "source": [
    "\n"
   ]
  },
  {
   "cell_type": "code",
   "execution_count": 65,
   "id": "7d6cc5ba",
   "metadata": {},
   "outputs": [],
   "source": [
    "### setting an output pathwhere the trained model would be saved"
   ]
  },
  {
   "cell_type": "code",
   "execution_count": 66,
   "id": "f4c416b2",
   "metadata": {},
   "outputs": [],
   "source": [
    "prefix='xg-boost-as-an-builtin-algo'\n",
    "op_path='s3://{}//{}/ouput'.format(bucket_name,prefix)"
   ]
  },
  {
   "cell_type": "code",
   "execution_count": 67,
   "id": "02a7f1ca",
   "metadata": {},
   "outputs": [
    {
     "name": "stdout",
     "output_type": "stream",
     "text": [
      "s3://bankapplif//xg-boost-as-an-builtin-algo/ouput\n"
     ]
    }
   ],
   "source": [
    "print(op_path)"
   ]
  },
  {
   "cell_type": "markdown",
   "id": "495d3aa3",
   "metadata": {},
   "source": [
    "### downloading the dataset and storing in s3\\\n"
   ]
  },
  {
   "cell_type": "code",
   "execution_count": 68,
   "id": "9236a2f0",
   "metadata": {},
   "outputs": [],
   "source": [
    "import pandas as pd\n",
    "import urllib "
   ]
  },
  {
   "cell_type": "code",
   "execution_count": 69,
   "id": "61db01f8",
   "metadata": {},
   "outputs": [
    {
     "name": "stdout",
     "output_type": "stream",
     "text": [
      "Success: downloaded bank_clean.csv.\n"
     ]
    }
   ],
   "source": [
    "try:\n",
    "  urllib.request.urlretrieve (\"https://d1.awsstatic.com/tmt/build-train-deploy-machine-learning-model-sagemaker/bank_clean.27f01fbbdf43271788427f3682996ae29ceca05d.csv\", \"bank_clean.csv\")\n",
    "  print('Success: downloaded bank_clean.csv.')\n",
    "except Exception as e:\n",
    "  print('Data load error: ',e)"
   ]
  },
  {
   "cell_type": "code",
   "execution_count": 70,
   "id": "2ee86cc1",
   "metadata": {},
   "outputs": [
    {
     "name": "stdout",
     "output_type": "stream",
     "text": [
      "Success: Data loaded into dataframe.\n"
     ]
    }
   ],
   "source": [
    "try:\n",
    "  model_data = pd.read_csv('./bank_clean.csv',index_col=0)\n",
    "  print('Success: Data loaded into dataframe.')\n",
    "except Exception as e:\n",
    "    print('Data load error: ',e)"
   ]
  },
  {
   "cell_type": "code",
   "execution_count": 71,
   "id": "9ba0ec70",
   "metadata": {},
   "outputs": [
    {
     "name": "stdout",
     "output_type": "stream",
     "text": [
      "(28831, 61) (12357, 61)\n"
     ]
    }
   ],
   "source": [
    "import numpy as np\n",
    "train_data, test_data = np.split(model_data.sample(frac=1, random_state=1729), [int(0.7 * len(model_data))])\n",
    "print(train_data.shape, test_data.shape)"
   ]
  },
  {
   "cell_type": "code",
   "execution_count": 76,
   "id": "576ffcda",
   "metadata": {},
   "outputs": [],
   "source": [
    "import os\n",
    "pd.concat([train_data['y_yes'], train_data.drop(['y_no', 'y_yes'], axis=1)], \n",
    "          axis=1).to_csv('train.csv', index=False, header=False)\n",
    "boto3.Session().resource('s3').Bucket(bucket_name).Object(os.path.join(prefix, 'train/train.csv')).upload_file('train.csv')\n",
    "s3_input_train = sagemaker.inputs.TrainingInput(s3_data='s3://{}/{}/train'.format(bucket_name, prefix), content_type='csv')"
   ]
  },
  {
   "cell_type": "code",
   "execution_count": 84,
   "id": "acf4b118",
   "metadata": {},
   "outputs": [],
   "source": [
    "pd.concat([test_data['y_yes'], test_data.drop(['y_no', 'y_yes'], axis=1)], \n",
    "          axis=1).to_csv('test.csv', index=False, header=False)\n",
    "boto3.Session().resource('s3').Bucket(bucket_name).Object(os.path.join(prefix, 'test/test.csv')).upload_file('test.csv')\n",
    "s3_input_test = sagemaker.inputs.TrainingInput(s3_data='s3://{}/{}/test'.format(bucket_name, prefix), content_type='csv')"
   ]
  },
  {
   "cell_type": "markdown",
   "id": "be79c7ea",
   "metadata": {},
   "source": [
    "### building and training the algorithm"
   ]
  },
  {
   "cell_type": "code",
   "execution_count": 89,
   "id": "9eb8928c",
   "metadata": {},
   "outputs": [
    {
     "name": "stderr",
     "output_type": "stream",
     "text": [
      "The method get_image_uri has been renamed in sagemaker>=2.\n",
      "See: https://sagemaker.readthedocs.io/en/stable/v2.html for details.\n"
     ]
    }
   ],
   "source": [
    "container=get_image_uri(boto3.Session().region_name,'xgboost',repo_version='1')\n",
    "hyperparameters={'max_depth':'5',\n",
    "                       'eta':'0.2',\n",
    "                       'gamma':'4',\n",
    "                       'min_child_weight':'6',\n",
    "                       'subsample':'0.8',\n",
    "                       'silent':'0',\n",
    "                       'objective':'binary:logistic',\n",
    "                       'num_round':'100'}"
   ]
  },
  {
   "cell_type": "code",
   "execution_count": 99,
   "id": "e70f8414",
   "metadata": {},
   "outputs": [
    {
     "name": "stderr",
     "output_type": "stream",
     "text": [
      "train_max_run has been renamed in sagemaker>=2.\n",
      "See: https://sagemaker.readthedocs.io/en/stable/v2.html for details.\n",
      "train_use_spot_instances has been renamed in sagemaker>=2.\n",
      "See: https://sagemaker.readthedocs.io/en/stable/v2.html for details.\n",
      "train_max_wait has been renamed in sagemaker>=2.\n",
      "See: https://sagemaker.readthedocs.io/en/stable/v2.html for details.\n",
      "train_volume_size has been renamed in sagemaker>=2.\n",
      "See: https://sagemaker.readthedocs.io/en/stable/v2.html for details.\n"
     ]
    }
   ],
   "source": [
    "estimator = sagemaker.estimator.Estimator(image_uri=container,\n",
    "                                            hyperparameters=  hyperparameters\n",
    "                                          ,role=sagemaker.get_execution_role()\n",
    "                                           , instance_count=1\n",
    "                                           , instance_type='ml.m4.xlarge',\n",
    "                                          train_volume_size=5\n",
    "                                           ,output_path=op_path\n",
    "                                           ,train_use_spot_instances=True\n",
    "                                          ,train_max_run=300\n",
    "                                         ,train_max_wait=600)"
   ]
  },
  {
   "cell_type": "code",
   "execution_count": 100,
   "id": "a6d24a84",
   "metadata": {},
   "outputs": [
    {
     "name": "stdout",
     "output_type": "stream",
     "text": [
      "2022-07-11 12:40:17 Starting - Starting the training job...\n",
      "2022-07-11 12:40:41 Starting - Preparing the instances for trainingProfilerReport-1657543217: InProgress\n",
      ".........\n",
      "2022-07-11 12:42:01 Downloading - Downloading input data...\n",
      "2022-07-11 12:42:41 Training - Downloading the training image......\n",
      "2022-07-11 12:43:42 Uploading - Uploading generated training model\u001b[34mArguments: train\u001b[0m\n",
      "\u001b[34m[2022-07-11:12:43:34:INFO] Running standalone xgboost training.\u001b[0m\n",
      "\u001b[34m[2022-07-11:12:43:34:INFO] File size need to be processed in the node: 2.9mb. Available memory size in the node: 8451.18mb\u001b[0m\n",
      "\u001b[34m[2022-07-11:12:43:34:INFO] Determined delimiter of CSV input is ','\u001b[0m\n",
      "\u001b[34m[12:43:34] S3DistributionType set as FullyReplicated\u001b[0m\n",
      "\u001b[34m[12:43:34] 12357x59 matrix with 729063 entries loaded from /opt/ml/input/data/train?format=csv&label_column=0&delimiter=,\u001b[0m\n",
      "\u001b[34m[2022-07-11:12:43:34:INFO] Determined delimiter of CSV input is ','\u001b[0m\n",
      "\u001b[34m[12:43:34] S3DistributionType set as FullyReplicated\u001b[0m\n",
      "\u001b[34m[12:43:34] 12357x59 matrix with 729063 entries loaded from /opt/ml/input/data/validation?format=csv&label_column=0&delimiter=,\u001b[0m\n",
      "\u001b[34m[12:43:34] src/tree/updater_prune.cc:74: tree pruning end, 1 roots, 18 extra nodes, 12 pruned nodes, max_depth=5\u001b[0m\n",
      "\u001b[34m[0]#011train-error:0.102614#011validation-error:0.102614\u001b[0m\n",
      "\u001b[34m[12:43:34] src/tree/updater_prune.cc:74: tree pruning end, 1 roots, 18 extra nodes, 16 pruned nodes, max_depth=5\u001b[0m\n",
      "\u001b[34m[1]#011train-error:0.102128#011validation-error:0.102128\u001b[0m\n",
      "\u001b[34m[12:43:34] src/tree/updater_prune.cc:74: tree pruning end, 1 roots, 20 extra nodes, 12 pruned nodes, max_depth=5\u001b[0m\n",
      "\u001b[34m[2]#011train-error:0.100914#011validation-error:0.100914\u001b[0m\n",
      "\u001b[34m[12:43:34] src/tree/updater_prune.cc:74: tree pruning end, 1 roots, 20 extra nodes, 14 pruned nodes, max_depth=5\u001b[0m\n",
      "\u001b[34m[3]#011train-error:0.100753#011validation-error:0.100753\u001b[0m\n",
      "\u001b[34m[12:43:34] src/tree/updater_prune.cc:74: tree pruning end, 1 roots, 14 extra nodes, 22 pruned nodes, max_depth=5\u001b[0m\n",
      "\u001b[34m[4]#011train-error:0.100914#011validation-error:0.100914\u001b[0m\n",
      "\u001b[34m[12:43:34] src/tree/updater_prune.cc:74: tree pruning end, 1 roots, 24 extra nodes, 8 pruned nodes, max_depth=5\u001b[0m\n",
      "\u001b[34m[5]#011train-error:0.101157#011validation-error:0.101157\u001b[0m\n",
      "\u001b[34m[12:43:34] src/tree/updater_prune.cc:74: tree pruning end, 1 roots, 20 extra nodes, 18 pruned nodes, max_depth=5\u001b[0m\n",
      "\u001b[34m[6]#011train-error:0.101481#011validation-error:0.101481\u001b[0m\n",
      "\u001b[34m[12:43:34] src/tree/updater_prune.cc:74: tree pruning end, 1 roots, 22 extra nodes, 12 pruned nodes, max_depth=5\u001b[0m\n",
      "\u001b[34m[7]#011train-error:0.101481#011validation-error:0.101481\u001b[0m\n",
      "\u001b[34m[12:43:34] src/tree/updater_prune.cc:74: tree pruning end, 1 roots, 18 extra nodes, 24 pruned nodes, max_depth=5\u001b[0m\n",
      "\u001b[34m[8]#011train-error:0.1014#011validation-error:0.1014\u001b[0m\n",
      "\u001b[34m[12:43:34] src/tree/updater_prune.cc:74: tree pruning end, 1 roots, 24 extra nodes, 8 pruned nodes, max_depth=5\u001b[0m\n",
      "\u001b[34m[9]#011train-error:0.101238#011validation-error:0.101238\u001b[0m\n",
      "\u001b[34m[12:43:34] src/tree/updater_prune.cc:74: tree pruning end, 1 roots, 12 extra nodes, 10 pruned nodes, max_depth=5\u001b[0m\n",
      "\u001b[34m[10]#011train-error:0.10051#011validation-error:0.10051\u001b[0m\n",
      "\u001b[34m[12:43:34] src/tree/updater_prune.cc:74: tree pruning end, 1 roots, 22 extra nodes, 32 pruned nodes, max_depth=5\u001b[0m\n",
      "\u001b[34m[11]#011train-error:0.101076#011validation-error:0.101076\u001b[0m\n",
      "\u001b[34m[12:43:34] src/tree/updater_prune.cc:74: tree pruning end, 1 roots, 22 extra nodes, 24 pruned nodes, max_depth=5\u001b[0m\n",
      "\u001b[34m[12]#011train-error:0.101076#011validation-error:0.101076\u001b[0m\n",
      "\u001b[34m[12:43:34] src/tree/updater_prune.cc:74: tree pruning end, 1 roots, 16 extra nodes, 16 pruned nodes, max_depth=5\u001b[0m\n",
      "\u001b[34m[13]#011train-error:0.100753#011validation-error:0.100753\u001b[0m\n",
      "\u001b[34m[12:43:34] src/tree/updater_prune.cc:74: tree pruning end, 1 roots, 20 extra nodes, 28 pruned nodes, max_depth=5\u001b[0m\n",
      "\u001b[34m[14]#011train-error:0.100753#011validation-error:0.100753\u001b[0m\n",
      "\u001b[34m[12:43:34] src/tree/updater_prune.cc:74: tree pruning end, 1 roots, 28 extra nodes, 12 pruned nodes, max_depth=5\u001b[0m\n",
      "\u001b[34m[15]#011train-error:0.100753#011validation-error:0.100753\u001b[0m\n",
      "\u001b[34m[12:43:34] src/tree/updater_prune.cc:74: tree pruning end, 1 roots, 24 extra nodes, 26 pruned nodes, max_depth=5\u001b[0m\n",
      "\u001b[34m[16]#011train-error:0.100591#011validation-error:0.100591\u001b[0m\n",
      "\u001b[34m[12:43:34] src/tree/updater_prune.cc:74: tree pruning end, 1 roots, 24 extra nodes, 12 pruned nodes, max_depth=5\u001b[0m\n",
      "\u001b[34m[17]#011train-error:0.099943#011validation-error:0.099943\u001b[0m\n",
      "\u001b[34m[12:43:34] src/tree/updater_prune.cc:74: tree pruning end, 1 roots, 28 extra nodes, 14 pruned nodes, max_depth=5\u001b[0m\n",
      "\u001b[34m[18]#011train-error:0.099701#011validation-error:0.099701\u001b[0m\n",
      "\u001b[34m[12:43:34] src/tree/updater_prune.cc:74: tree pruning end, 1 roots, 12 extra nodes, 26 pruned nodes, max_depth=4\u001b[0m\n",
      "\u001b[34m[19]#011train-error:0.099862#011validation-error:0.099862\u001b[0m\n",
      "\u001b[34m[12:43:34] src/tree/updater_prune.cc:74: tree pruning end, 1 roots, 18 extra nodes, 20 pruned nodes, max_depth=5\u001b[0m\n",
      "\u001b[34m[20]#011train-error:0.09962#011validation-error:0.09962\u001b[0m\n",
      "\u001b[34m[12:43:34] src/tree/updater_prune.cc:74: tree pruning end, 1 roots, 18 extra nodes, 14 pruned nodes, max_depth=5\u001b[0m\n",
      "\u001b[34m[21]#011train-error:0.099781#011validation-error:0.099781\u001b[0m\n",
      "\u001b[34m[12:43:34] src/tree/updater_prune.cc:74: tree pruning end, 1 roots, 12 extra nodes, 18 pruned nodes, max_depth=5\u001b[0m\n",
      "\u001b[34m[22]#011train-error:0.099701#011validation-error:0.099701\u001b[0m\n",
      "\u001b[34m[12:43:34] src/tree/updater_prune.cc:74: tree pruning end, 1 roots, 14 extra nodes, 14 pruned nodes, max_depth=4\u001b[0m\n",
      "\u001b[34m[23]#011train-error:0.098972#011validation-error:0.098972\u001b[0m\n",
      "\u001b[34m[12:43:34] src/tree/updater_prune.cc:74: tree pruning end, 1 roots, 30 extra nodes, 20 pruned nodes, max_depth=5\u001b[0m\n",
      "\u001b[34m[24]#011train-error:0.099296#011validation-error:0.099296\u001b[0m\n",
      "\u001b[34m[12:43:34] src/tree/updater_prune.cc:74: tree pruning end, 1 roots, 14 extra nodes, 20 pruned nodes, max_depth=5\u001b[0m\n",
      "\u001b[34m[25]#011train-error:0.099215#011validation-error:0.099215\u001b[0m\n",
      "\u001b[34m[12:43:34] src/tree/updater_prune.cc:74: tree pruning end, 1 roots, 18 extra nodes, 18 pruned nodes, max_depth=5\u001b[0m\n",
      "\u001b[34m[26]#011train-error:0.099053#011validation-error:0.099053\u001b[0m\n",
      "\u001b[34m[12:43:34] src/tree/updater_prune.cc:74: tree pruning end, 1 roots, 16 extra nodes, 14 pruned nodes, max_depth=5\u001b[0m\n",
      "\u001b[34m[27]#011train-error:0.099215#011validation-error:0.099215\u001b[0m\n",
      "\u001b[34m[12:43:34] src/tree/updater_prune.cc:74: tree pruning end, 1 roots, 10 extra nodes, 20 pruned nodes, max_depth=5\u001b[0m\n",
      "\u001b[34m[28]#011train-error:0.099296#011validation-error:0.099296\u001b[0m\n",
      "\u001b[34m[12:43:34] src/tree/updater_prune.cc:74: tree pruning end, 1 roots, 12 extra nodes, 20 pruned nodes, max_depth=5\u001b[0m\n",
      "\u001b[34m[29]#011train-error:0.099296#011validation-error:0.099296\u001b[0m\n",
      "\u001b[34m[12:43:34] src/tree/updater_prune.cc:74: tree pruning end, 1 roots, 20 extra nodes, 12 pruned nodes, max_depth=5\u001b[0m\n",
      "\u001b[34m[30]#011train-error:0.098729#011validation-error:0.098729\u001b[0m\n",
      "\u001b[34m[12:43:34] src/tree/updater_prune.cc:74: tree pruning end, 1 roots, 12 extra nodes, 22 pruned nodes, max_depth=4\u001b[0m\n",
      "\u001b[34m[31]#011train-error:0.098406#011validation-error:0.098406\u001b[0m\n",
      "\u001b[34m[12:43:34] src/tree/updater_prune.cc:74: tree pruning end, 1 roots, 8 extra nodes, 6 pruned nodes, max_depth=4\u001b[0m\n",
      "\u001b[34m[32]#011train-error:0.098244#011validation-error:0.098244\u001b[0m\n",
      "\u001b[34m[12:43:34] src/tree/updater_prune.cc:74: tree pruning end, 1 roots, 6 extra nodes, 30 pruned nodes, max_depth=3\u001b[0m\n",
      "\u001b[34m[33]#011train-error:0.098001#011validation-error:0.098001\u001b[0m\n",
      "\u001b[34m[12:43:34] src/tree/updater_prune.cc:74: tree pruning end, 1 roots, 8 extra nodes, 34 pruned nodes, max_depth=4\u001b[0m\n",
      "\u001b[34m[34]#011train-error:0.098082#011validation-error:0.098082\u001b[0m\n",
      "\u001b[34m[12:43:34] src/tree/updater_prune.cc:74: tree pruning end, 1 roots, 18 extra nodes, 20 pruned nodes, max_depth=5\u001b[0m\n",
      "\u001b[34m[35]#011train-error:0.097758#011validation-error:0.097758\u001b[0m\n",
      "\u001b[34m[12:43:34] src/tree/updater_prune.cc:74: tree pruning end, 1 roots, 14 extra nodes, 10 pruned nodes, max_depth=5\u001b[0m\n",
      "\u001b[34m[36]#011train-error:0.097758#011validation-error:0.097758\u001b[0m\n",
      "\u001b[34m[12:43:34] src/tree/updater_prune.cc:74: tree pruning end, 1 roots, 8 extra nodes, 6 pruned nodes, max_depth=4\u001b[0m\n",
      "\u001b[34m[37]#011train-error:0.097597#011validation-error:0.097597\u001b[0m\n",
      "\u001b[34m[12:43:34] src/tree/updater_prune.cc:74: tree pruning end, 1 roots, 4 extra nodes, 28 pruned nodes, max_depth=2\u001b[0m\n",
      "\u001b[34m[38]#011train-error:0.097597#011validation-error:0.097597\u001b[0m\n",
      "\u001b[34m[12:43:34] src/tree/updater_prune.cc:74: tree pruning end, 1 roots, 8 extra nodes, 18 pruned nodes, max_depth=4\u001b[0m\n",
      "\u001b[34m[39]#011train-error:0.097597#011validation-error:0.097597\u001b[0m\n",
      "\u001b[34m[12:43:34] src/tree/updater_prune.cc:74: tree pruning end, 1 roots, 0 extra nodes, 20 pruned nodes, max_depth=0\u001b[0m\n",
      "\u001b[34m[40]#011train-error:0.097677#011validation-error:0.097677\u001b[0m\n",
      "\u001b[34m[12:43:35] src/tree/updater_prune.cc:74: tree pruning end, 1 roots, 20 extra nodes, 14 pruned nodes, max_depth=5\u001b[0m\n",
      "\u001b[34m[41]#011train-error:0.097516#011validation-error:0.097516\u001b[0m\n",
      "\u001b[34m[12:43:35] src/tree/updater_prune.cc:74: tree pruning end, 1 roots, 20 extra nodes, 24 pruned nodes, max_depth=5\u001b[0m\n",
      "\u001b[34m[42]#011train-error:0.097677#011validation-error:0.097677\u001b[0m\n",
      "\u001b[34m[12:43:35] src/tree/updater_prune.cc:74: tree pruning end, 1 roots, 14 extra nodes, 22 pruned nodes, max_depth=5\u001b[0m\n",
      "\u001b[34m[43]#011train-error:0.097192#011validation-error:0.097192\u001b[0m\n",
      "\u001b[34m[12:43:35] src/tree/updater_prune.cc:74: tree pruning end, 1 roots, 12 extra nodes, 22 pruned nodes, max_depth=5\u001b[0m\n",
      "\u001b[34m[44]#011train-error:0.097435#011validation-error:0.097435\u001b[0m\n",
      "\u001b[34m[12:43:35] src/tree/updater_prune.cc:74: tree pruning end, 1 roots, 14 extra nodes, 26 pruned nodes, max_depth=5\u001b[0m\n",
      "\u001b[34m[45]#011train-error:0.097111#011validation-error:0.097111\u001b[0m\n",
      "\u001b[34m[12:43:35] src/tree/updater_prune.cc:74: tree pruning end, 1 roots, 22 extra nodes, 10 pruned nodes, max_depth=5\u001b[0m\n",
      "\u001b[34m[46]#011train-error:0.097354#011validation-error:0.097354\u001b[0m\n",
      "\u001b[34m[12:43:35] src/tree/updater_prune.cc:74: tree pruning end, 1 roots, 10 extra nodes, 20 pruned nodes, max_depth=5\u001b[0m\n",
      "\u001b[34m[47]#011train-error:0.097354#011validation-error:0.097354\u001b[0m\n",
      "\u001b[34m[12:43:35] src/tree/updater_prune.cc:74: tree pruning end, 1 roots, 10 extra nodes, 16 pruned nodes, max_depth=5\u001b[0m\n",
      "\u001b[34m[48]#011train-error:0.097597#011validation-error:0.097597\u001b[0m\n",
      "\u001b[34m[12:43:35] src/tree/updater_prune.cc:74: tree pruning end, 1 roots, 14 extra nodes, 18 pruned nodes, max_depth=5\u001b[0m\n",
      "\u001b[34m[49]#011train-error:0.097758#011validation-error:0.097758\u001b[0m\n",
      "\u001b[34m[12:43:35] src/tree/updater_prune.cc:74: tree pruning end, 1 roots, 14 extra nodes, 28 pruned nodes, max_depth=5\u001b[0m\n",
      "\u001b[34m[50]#011train-error:0.097354#011validation-error:0.097354\u001b[0m\n",
      "\u001b[34m[12:43:35] src/tree/updater_prune.cc:74: tree pruning end, 1 roots, 20 extra nodes, 24 pruned nodes, max_depth=5\u001b[0m\n",
      "\u001b[34m[51]#011train-error:0.09703#011validation-error:0.09703\u001b[0m\n",
      "\u001b[34m[12:43:35] src/tree/updater_prune.cc:74: tree pruning end, 1 roots, 10 extra nodes, 24 pruned nodes, max_depth=5\u001b[0m\n",
      "\u001b[34m[52]#011train-error:0.096949#011validation-error:0.096949\u001b[0m\n",
      "\u001b[34m[12:43:35] src/tree/updater_prune.cc:74: tree pruning end, 1 roots, 18 extra nodes, 20 pruned nodes, max_depth=5\u001b[0m\n",
      "\u001b[34m[53]#011train-error:0.096787#011validation-error:0.096787\u001b[0m\n",
      "\u001b[34m[12:43:35] src/tree/updater_prune.cc:74: tree pruning end, 1 roots, 6 extra nodes, 24 pruned nodes, max_depth=3\u001b[0m\n",
      "\u001b[34m[54]#011train-error:0.096949#011validation-error:0.096949\u001b[0m\n",
      "\u001b[34m[12:43:35] src/tree/updater_prune.cc:74: tree pruning end, 1 roots, 12 extra nodes, 26 pruned nodes, max_depth=5\u001b[0m\n",
      "\u001b[34m[55]#011train-error:0.096868#011validation-error:0.096868\u001b[0m\n",
      "\u001b[34m[12:43:35] src/tree/updater_prune.cc:74: tree pruning end, 1 roots, 10 extra nodes, 20 pruned nodes, max_depth=5\u001b[0m\n",
      "\u001b[34m[56]#011train-error:0.096787#011validation-error:0.096787\u001b[0m\n",
      "\u001b[34m[12:43:35] src/tree/updater_prune.cc:74: tree pruning end, 1 roots, 14 extra nodes, 18 pruned nodes, max_depth=5\u001b[0m\n",
      "\u001b[34m[57]#011train-error:0.096544#011validation-error:0.096544\u001b[0m\n",
      "\u001b[34m[12:43:35] src/tree/updater_prune.cc:74: tree pruning end, 1 roots, 12 extra nodes, 32 pruned nodes, max_depth=4\u001b[0m\n",
      "\u001b[34m[58]#011train-error:0.096544#011validation-error:0.096544\u001b[0m\n",
      "\u001b[34m[12:43:35] src/tree/updater_prune.cc:74: tree pruning end, 1 roots, 0 extra nodes, 16 pruned nodes, max_depth=0\u001b[0m\n",
      "\u001b[34m[59]#011train-error:0.096544#011validation-error:0.096544\u001b[0m\n",
      "\u001b[34m[12:43:35] src/tree/updater_prune.cc:74: tree pruning end, 1 roots, 10 extra nodes, 14 pruned nodes, max_depth=5\u001b[0m\n",
      "\u001b[34m[60]#011train-error:0.096544#011validation-error:0.096544\u001b[0m\n",
      "\u001b[34m[12:43:35] src/tree/updater_prune.cc:74: tree pruning end, 1 roots, 0 extra nodes, 34 pruned nodes, max_depth=0\u001b[0m\n",
      "\u001b[34m[61]#011train-error:0.096544#011validation-error:0.096544\u001b[0m\n",
      "\u001b[34m[12:43:35] src/tree/updater_prune.cc:74: tree pruning end, 1 roots, 10 extra nodes, 18 pruned nodes, max_depth=5\u001b[0m\n",
      "\u001b[34m[62]#011train-error:0.096787#011validation-error:0.096787\u001b[0m\n",
      "\u001b[34m[12:43:35] src/tree/updater_prune.cc:74: tree pruning end, 1 roots, 12 extra nodes, 12 pruned nodes, max_depth=5\u001b[0m\n",
      "\u001b[34m[63]#011train-error:0.096706#011validation-error:0.096706\u001b[0m\n",
      "\u001b[34m[12:43:35] src/tree/updater_prune.cc:74: tree pruning end, 1 roots, 6 extra nodes, 28 pruned nodes, max_depth=3\u001b[0m\n",
      "\u001b[34m[64]#011train-error:0.097192#011validation-error:0.097192\u001b[0m\n",
      "\u001b[34m[12:43:35] src/tree/updater_prune.cc:74: tree pruning end, 1 roots, 0 extra nodes, 30 pruned nodes, max_depth=0\u001b[0m\n",
      "\u001b[34m[65]#011train-error:0.097192#011validation-error:0.097192\u001b[0m\n",
      "\u001b[34m[12:43:35] src/tree/updater_prune.cc:74: tree pruning end, 1 roots, 8 extra nodes, 8 pruned nodes, max_depth=4\u001b[0m\n",
      "\u001b[34m[66]#011train-error:0.097192#011validation-error:0.097192\u001b[0m\n",
      "\u001b[34m[12:43:35] src/tree/updater_prune.cc:74: tree pruning end, 1 roots, 4 extra nodes, 28 pruned nodes, max_depth=2\u001b[0m\n",
      "\u001b[34m[67]#011train-error:0.096868#011validation-error:0.096868\u001b[0m\n",
      "\u001b[34m[12:43:35] src/tree/updater_prune.cc:74: tree pruning end, 1 roots, 16 extra nodes, 26 pruned nodes, max_depth=5\u001b[0m\n",
      "\u001b[34m[68]#011train-error:0.096464#011validation-error:0.096464\u001b[0m\n",
      "\u001b[34m[12:43:35] src/tree/updater_prune.cc:74: tree pruning end, 1 roots, 18 extra nodes, 16 pruned nodes, max_depth=5\u001b[0m\n",
      "\u001b[34m[69]#011train-error:0.096868#011validation-error:0.096868\u001b[0m\n",
      "\u001b[34m[12:43:35] src/tree/updater_prune.cc:74: tree pruning end, 1 roots, 16 extra nodes, 30 pruned nodes, max_depth=4\u001b[0m\n",
      "\u001b[34m[70]#011train-error:0.096787#011validation-error:0.096787\u001b[0m\n",
      "\u001b[34m[12:43:35] src/tree/updater_prune.cc:74: tree pruning end, 1 roots, 16 extra nodes, 22 pruned nodes, max_depth=5\u001b[0m\n",
      "\u001b[34m[71]#011train-error:0.096868#011validation-error:0.096868\u001b[0m\n",
      "\u001b[34m[12:43:35] src/tree/updater_prune.cc:74: tree pruning end, 1 roots, 0 extra nodes, 20 pruned nodes, max_depth=0\u001b[0m\n",
      "\u001b[34m[72]#011train-error:0.096787#011validation-error:0.096787\u001b[0m\n",
      "\u001b[34m[12:43:35] src/tree/updater_prune.cc:74: tree pruning end, 1 roots, 10 extra nodes, 24 pruned nodes, max_depth=5\u001b[0m\n",
      "\u001b[34m[73]#011train-error:0.096464#011validation-error:0.096464\u001b[0m\n",
      "\u001b[34m[12:43:35] src/tree/updater_prune.cc:74: tree pruning end, 1 roots, 12 extra nodes, 12 pruned nodes, max_depth=5\u001b[0m\n",
      "\u001b[34m[74]#011train-error:0.096383#011validation-error:0.096383\u001b[0m\n",
      "\u001b[34m[12:43:35] src/tree/updater_prune.cc:74: tree pruning end, 1 roots, 8 extra nodes, 28 pruned nodes, max_depth=4\u001b[0m\n",
      "\u001b[34m[75]#011train-error:0.096221#011validation-error:0.096221\u001b[0m\n",
      "\u001b[34m[12:43:35] src/tree/updater_prune.cc:74: tree pruning end, 1 roots, 0 extra nodes, 22 pruned nodes, max_depth=0\u001b[0m\n",
      "\u001b[34m[76]#011train-error:0.096221#011validation-error:0.096221\u001b[0m\n",
      "\u001b[34m[12:43:35] src/tree/updater_prune.cc:74: tree pruning end, 1 roots, 0 extra nodes, 32 pruned nodes, max_depth=0\u001b[0m\n",
      "\u001b[34m[77]#011train-error:0.09614#011validation-error:0.09614\u001b[0m\n",
      "\u001b[34m[12:43:35] src/tree/updater_prune.cc:74: tree pruning end, 1 roots, 4 extra nodes, 16 pruned nodes, max_depth=2\u001b[0m\n",
      "\u001b[34m[78]#011train-error:0.09614#011validation-error:0.09614\u001b[0m\n",
      "\u001b[34m[12:43:35] src/tree/updater_prune.cc:74: tree pruning end, 1 roots, 10 extra nodes, 10 pruned nodes, max_depth=4\u001b[0m\n",
      "\u001b[34m[79]#011train-error:0.096706#011validation-error:0.096706\u001b[0m\n",
      "\u001b[34m[12:43:35] src/tree/updater_prune.cc:74: tree pruning end, 1 roots, 6 extra nodes, 20 pruned nodes, max_depth=3\u001b[0m\n",
      "\u001b[34m[80]#011train-error:0.096706#011validation-error:0.096706\u001b[0m\n",
      "\u001b[34m[12:43:35] src/tree/updater_prune.cc:74: tree pruning end, 1 roots, 8 extra nodes, 30 pruned nodes, max_depth=4\u001b[0m\n",
      "\u001b[34m[81]#011train-error:0.096544#011validation-error:0.096544\u001b[0m\n",
      "\u001b[34m[12:43:36] src/tree/updater_prune.cc:74: tree pruning end, 1 roots, 0 extra nodes, 16 pruned nodes, max_depth=0\u001b[0m\n",
      "\u001b[34m[82]#011train-error:0.096464#011validation-error:0.096464\u001b[0m\n",
      "\u001b[34m[12:43:36] src/tree/updater_prune.cc:74: tree pruning end, 1 roots, 8 extra nodes, 26 pruned nodes, max_depth=4\u001b[0m\n",
      "\u001b[34m[83]#011train-error:0.096302#011validation-error:0.096302\u001b[0m\n",
      "\u001b[34m[12:43:36] src/tree/updater_prune.cc:74: tree pruning end, 1 roots, 16 extra nodes, 20 pruned nodes, max_depth=5\u001b[0m\n",
      "\u001b[34m[84]#011train-error:0.096383#011validation-error:0.096383\u001b[0m\n",
      "\u001b[34m[12:43:36] src/tree/updater_prune.cc:74: tree pruning end, 1 roots, 0 extra nodes, 30 pruned nodes, max_depth=0\u001b[0m\n",
      "\u001b[34m[85]#011train-error:0.096383#011validation-error:0.096383\u001b[0m\n",
      "\u001b[34m[12:43:36] src/tree/updater_prune.cc:74: tree pruning end, 1 roots, 10 extra nodes, 16 pruned nodes, max_depth=5\u001b[0m\n",
      "\u001b[34m[86]#011train-error:0.096706#011validation-error:0.096706\u001b[0m\n",
      "\u001b[34m[12:43:36] src/tree/updater_prune.cc:74: tree pruning end, 1 roots, 22 extra nodes, 24 pruned nodes, max_depth=5\u001b[0m\n",
      "\u001b[34m[87]#011train-error:0.096464#011validation-error:0.096464\u001b[0m\n",
      "\u001b[34m[12:43:36] src/tree/updater_prune.cc:74: tree pruning end, 1 roots, 8 extra nodes, 28 pruned nodes, max_depth=4\u001b[0m\n",
      "\u001b[34m[88]#011train-error:0.096221#011validation-error:0.096221\u001b[0m\n",
      "\u001b[34m[12:43:36] src/tree/updater_prune.cc:74: tree pruning end, 1 roots, 6 extra nodes, 20 pruned nodes, max_depth=3\u001b[0m\n",
      "\u001b[34m[89]#011train-error:0.096059#011validation-error:0.096059\u001b[0m\n",
      "\u001b[34m[12:43:36] src/tree/updater_prune.cc:74: tree pruning end, 1 roots, 10 extra nodes, 18 pruned nodes, max_depth=5\u001b[0m\n",
      "\u001b[34m[90]#011train-error:0.096302#011validation-error:0.096302\u001b[0m\n",
      "\u001b[34m[12:43:36] src/tree/updater_prune.cc:74: tree pruning end, 1 roots, 6 extra nodes, 38 pruned nodes, max_depth=3\u001b[0m\n",
      "\u001b[34m[91]#011train-error:0.096383#011validation-error:0.096383\u001b[0m\n",
      "\u001b[34m[12:43:36] src/tree/updater_prune.cc:74: tree pruning end, 1 roots, 0 extra nodes, 16 pruned nodes, max_depth=0\u001b[0m\n",
      "\u001b[34m[92]#011train-error:0.096383#011validation-error:0.096383\u001b[0m\n",
      "\u001b[34m[12:43:36] src/tree/updater_prune.cc:74: tree pruning end, 1 roots, 10 extra nodes, 10 pruned nodes, max_depth=4\u001b[0m\n",
      "\u001b[34m[93]#011train-error:0.096464#011validation-error:0.096464\u001b[0m\n",
      "\u001b[34m[12:43:36] src/tree/updater_prune.cc:74: tree pruning end, 1 roots, 6 extra nodes, 28 pruned nodes, max_depth=3\u001b[0m\n",
      "\u001b[34m[94]#011train-error:0.096464#011validation-error:0.096464\u001b[0m\n",
      "\u001b[34m[12:43:36] src/tree/updater_prune.cc:74: tree pruning end, 1 roots, 0 extra nodes, 18 pruned nodes, max_depth=0\u001b[0m\n",
      "\u001b[34m[95]#011train-error:0.096464#011validation-error:0.096464\u001b[0m\n",
      "\u001b[34m[12:43:36] src/tree/updater_prune.cc:74: tree pruning end, 1 roots, 0 extra nodes, 32 pruned nodes, max_depth=0\u001b[0m\n",
      "\u001b[34m[96]#011train-error:0.096464#011validation-error:0.096464\u001b[0m\n",
      "\u001b[34m[12:43:36] src/tree/updater_prune.cc:74: tree pruning end, 1 roots, 22 extra nodes, 22 pruned nodes, max_depth=5\u001b[0m\n",
      "\u001b[34m[97]#011train-error:0.096221#011validation-error:0.096221\u001b[0m\n",
      "\u001b[34m[12:43:36] src/tree/updater_prune.cc:74: tree pruning end, 1 roots, 10 extra nodes, 6 pruned nodes, max_depth=5\u001b[0m\n",
      "\u001b[34m[98]#011train-error:0.096221#011validation-error:0.096221\u001b[0m\n",
      "\u001b[34m[12:43:36] src/tree/updater_prune.cc:74: tree pruning end, 1 roots, 0 extra nodes, 32 pruned nodes, max_depth=0\u001b[0m\n",
      "\u001b[34m[99]#011train-error:0.096221#011validation-error:0.096221\u001b[0m\n",
      "\n",
      "2022-07-11 12:44:02 Completed - Training job completed\n",
      "Training seconds: 123\n",
      "Billable seconds: 31\n",
      "Managed Spot Training savings: 74.8%\n"
     ]
    }
   ],
   "source": [
    "estimator.fit({'train':s3_input_train,'validation':s3_input_test})"
   ]
  },
  {
   "cell_type": "markdown",
   "id": "e169280c",
   "metadata": {},
   "source": [
    "### deploying machine learning model"
   ]
  },
  {
   "cell_type": "code",
   "execution_count": 101,
   "id": "ccd104d5",
   "metadata": {},
   "outputs": [
    {
     "name": "stdout",
     "output_type": "stream",
     "text": [
      "------!"
     ]
    }
   ],
   "source": [
    "predictor=estimator.deploy(initial_instance_count=1,instance_type='ml.m4.xlarge')"
   ]
  },
  {
   "cell_type": "markdown",
   "id": "7ad8dd26",
   "metadata": {},
   "source": [
    "### prediction of the data"
   ]
  },
  {
   "cell_type": "code",
   "execution_count": 102,
   "id": "d3abdaa7",
   "metadata": {},
   "outputs": [],
   "source": [
    "from sagemaker.serializers import CSVSerializer"
   ]
  },
  {
   "cell_type": "code",
   "execution_count": 105,
   "id": "5c42eeac",
   "metadata": {},
   "outputs": [
    {
     "name": "stdout",
     "output_type": "stream",
     "text": [
      "(12357,)\n"
     ]
    }
   ],
   "source": [
    "test_data_array = test_data.drop(['y_no', 'y_yes'], axis=1).values #load the data into an array\n",
    "predictor.serializer = CSVSerializer() # set the serializer type\n",
    "predictions = predictor.predict(test_data_array).decode('utf-8') # predict!\n",
    "predictions_array = np.fromstring(predictions[1:], sep=',') # and turn the prediction into an array\n",
    "print(predictions_array.shape)"
   ]
  },
  {
   "cell_type": "code",
   "execution_count": 108,
   "id": "e626e8d8",
   "metadata": {},
   "outputs": [
    {
     "data": {
      "text/plain": [
       "array([0.08000426, 0.03153157, 0.08322722, ..., 0.06332904, 0.04867871,\n",
       "       0.04440598])"
      ]
     },
     "execution_count": 108,
     "metadata": {},
     "output_type": "execute_result"
    }
   ],
   "source": [
    "predictions_array"
   ]
  },
  {
   "cell_type": "markdown",
   "id": "fccd9a04",
   "metadata": {},
   "source": []
  },
  {
   "cell_type": "code",
   "execution_count": 110,
   "id": "53486a46",
   "metadata": {},
   "outputs": [
    {
     "name": "stdout",
     "output_type": "stream",
     "text": [
      "\n",
      "Overall Classification Rate: 90.4%\n",
      "\n",
      "Predicted      No Purchase    Purchase\n",
      "Observed\n",
      "No Purchase    91% (10796)    27% (140)\n",
      "Purchase        9% (1049)     73% (372) \n",
      "\n"
     ]
    }
   ],
   "source": [
    "cm = pd.crosstab(index=test_data['y_yes'], columns=np.round(predictions_array), rownames=['Observed'], colnames=['Predicted'])\n",
    "tn = cm.iloc[0,0]; fn = cm.iloc[1,0]; tp = cm.iloc[1,1]; fp = cm.iloc[0,1]; p = (tp+tn)/(tp+tn+fp+fn)*100\n",
    "print(\"\\n{0:<20}{1:<4.1f}%\\n\".format(\"Overall Classification Rate: \", p))\n",
    "print(\"{0:<15}{1:<15}{2:>8}\".format(\"Predicted\", \"No Purchase\", \"Purchase\"))\n",
    "print(\"Observed\")\n",
    "print(\"{0:<15}{1:<2.0f}% ({2:<}){3:>6.0f}% ({4:<})\".format(\"No Purchase\", tn/(tn+fn)*100,tn, fp/(tp+fp)*100, fp))\n",
    "print(\"{0:<16}{1:<1.0f}% ({2:<}){3:>7.0f}% ({4:<}) \\n\".format(\"Purchase\", fn/(tn+fn)*100,fn, tp/(tp+fp)*100, tp))"
   ]
  },
  {
   "cell_type": "markdown",
   "id": "89e3be4d",
   "metadata": {},
   "source": [
    "### deleting the endpoints"
   ]
  },
  {
   "cell_type": "code",
   "execution_count": 111,
   "id": "7800dfed",
   "metadata": {},
   "outputs": [],
   "source": [
    "predictor.delete_endpoint(delete_endpoint_config=True)"
   ]
  },
  {
   "cell_type": "code",
   "execution_count": 112,
   "id": "5d2289ad",
   "metadata": {},
   "outputs": [
    {
     "data": {
      "text/plain": [
       "[{'ResponseMetadata': {'RequestId': 'F7707GYWVTVTQZBS',\n",
       "   'HostId': 'Ar7GCWCpdfwylq4MlOQ0QfLmPyoW0B5bXfI1+O4sHR04gsIeFiDI2dCXgJSjAtSSS3MxNDHxdc0=',\n",
       "   'HTTPStatusCode': 200,\n",
       "   'HTTPHeaders': {'x-amz-id-2': 'Ar7GCWCpdfwylq4MlOQ0QfLmPyoW0B5bXfI1+O4sHR04gsIeFiDI2dCXgJSjAtSSS3MxNDHxdc0=',\n",
       "    'x-amz-request-id': 'F7707GYWVTVTQZBS',\n",
       "    'date': 'Mon, 11 Jul 2022 13:03:21 GMT',\n",
       "    'content-type': 'application/xml',\n",
       "    'transfer-encoding': 'chunked',\n",
       "    'server': 'AmazonS3',\n",
       "    'connection': 'close'},\n",
       "   'RetryAttempts': 0},\n",
       "  'Deleted': [{'Key': '/xg-boost-as-an-builtin-algo/ouput/xgboost-2022-07-11-12-32-07-905/profiler-output/system/incremental/2022071112/1657542900.algo-1.json'},\n",
       "   {'Key': 'xg-boost-as-an-builtin-algo/test/test.csv'},\n",
       "   {'Key': 'xg-boost-as-an-builtin-algo/train/train.csv'},\n",
       "   {'Key': '/xg-boost-as-an-builtin-algo/ouput/xgboost-2022-07-11-12-40-17-155/profiler-output/system/training_job_end.ts'},\n",
       "   {'Key': '/xg-boost-as-an-builtin-algo/ouput/xgboost-2022-07-11-12-40-17-155/rule-output/ProfilerReport-1657543217/profiler-output/profiler-reports/BatchSize.json'},\n",
       "   {'Key': '/xg-boost-as-an-builtin-algo/ouput/xgboost-2022-07-11-12-40-17-155/rule-output/ProfilerReport-1657543217/profiler-output/profiler-reports/Dataloader.json'},\n",
       "   {'Key': '/xg-boost-as-an-builtin-algo/ouput/xgboost-2022-07-11-12-40-17-155/rule-output/ProfilerReport-1657543217/profiler-output/profiler-reports/MaxInitializationTime.json'},\n",
       "   {'Key': '/xg-boost-as-an-builtin-algo/ouput/xgboost-2022-07-11-12-38-52-410/rule-output/ProfilerReport-1657543132/profiler-output/profiler-reports/LowGPUUtilization.json'},\n",
       "   {'Key': '/xg-boost-as-an-builtin-algo/ouput/xgboost-2022-07-11-12-38-52-410/rule-output/ProfilerReport-1657543132/profiler-output/profiler-reports/BatchSize.json'},\n",
       "   {'Key': '/xg-boost-as-an-builtin-algo/ouput/xgboost-2022-07-11-12-32-07-905/rule-output/ProfilerReport-1657542727/profiler-output/profiler-reports/IOBottleneck.json'},\n",
       "   {'Key': '/xg-boost-as-an-builtin-algo/ouput/xgboost-2022-07-11-12-38-52-410/profiler-output/system/training_job_end.ts'},\n",
       "   {'Key': '/xg-boost-as-an-builtin-algo/ouput/xgboost-2022-07-11-12-32-07-905/rule-output/ProfilerReport-1657542727/profiler-output/profiler-reports/OverallSystemUsage.json'},\n",
       "   {'Key': '/xg-boost-as-an-builtin-algo/ouput/xgboost-2022-07-11-12-32-07-905/profiler-output/system/incremental/2022071112/1657542840.algo-1.json'},\n",
       "   {'Key': '/xg-boost-as-an-builtin-algo/ouput/xgboost-2022-07-11-12-38-52-410/rule-output/ProfilerReport-1657543132/profiler-output/profiler-reports/GPUMemoryIncrease.json'},\n",
       "   {'Key': '/xg-boost-as-an-builtin-algo/ouput/xgboost-2022-07-11-12-40-17-155/rule-output/ProfilerReport-1657543217/profiler-output/profiler-reports/OverallSystemUsage.json'},\n",
       "   {'Key': '/xg-boost-as-an-builtin-algo/ouput/xgboost-2022-07-11-12-38-52-410/rule-output/ProfilerReport-1657543132/profiler-output/profiler-reports/MaxInitializationTime.json'},\n",
       "   {'Key': '/xg-boost-as-an-builtin-algo/ouput/xgboost-2022-07-11-12-38-52-410/profiler-output/framework/training_job_end.ts'},\n",
       "   {'Key': '/xg-boost-as-an-builtin-algo/ouput/xgboost-2022-07-11-12-40-17-155/rule-output/ProfilerReport-1657543217/profiler-output/profiler-reports/StepOutlier.json'},\n",
       "   {'Key': '/xg-boost-as-an-builtin-algo/ouput/xgboost-2022-07-11-12-32-07-905/profiler-output/system/training_job_end.ts'},\n",
       "   {'Key': '/xg-boost-as-an-builtin-algo/ouput/xgboost-2022-07-11-12-32-07-905/rule-output/ProfilerReport-1657542727/profiler-output/profiler-reports/OverallFrameworkMetrics.json'},\n",
       "   {'Key': '/xg-boost-as-an-builtin-algo/ouput/xgboost-2022-07-11-12-40-17-155/output/model.tar.gz'},\n",
       "   {'Key': '/xg-boost-as-an-builtin-algo/ouput/xgboost-2022-07-11-12-38-52-410/rule-output/ProfilerReport-1657543132/profiler-output/profiler-reports/IOBottleneck.json'},\n",
       "   {'Key': '/xg-boost-as-an-builtin-algo/ouput/xgboost-2022-07-11-12-38-52-410/profiler-output/system/incremental/2022071112/1657543260.algo-1.json'},\n",
       "   {'Key': '/xg-boost-as-an-builtin-algo/ouput/xgboost-2022-07-11-12-38-52-410/rule-output/ProfilerReport-1657543132/profiler-output/profiler-reports/CPUBottleneck.json'},\n",
       "   {'Key': '/xg-boost-as-an-builtin-algo/ouput/xgboost-2022-07-11-12-40-17-155/rule-output/ProfilerReport-1657543217/profiler-output/profiler-reports/LowGPUUtilization.json'},\n",
       "   {'Key': '/xg-boost-as-an-builtin-algo/ouput/xgboost-2022-07-11-12-32-07-905/rule-output/ProfilerReport-1657542727/profiler-output/profiler-reports/MaxInitializationTime.json'},\n",
       "   {'Key': '/xg-boost-as-an-builtin-algo/ouput/xgboost-2022-07-11-12-32-07-905/rule-output/ProfilerReport-1657542727/profiler-output/profiler-reports/CPUBottleneck.json'},\n",
       "   {'Key': '/xg-boost-as-an-builtin-algo/ouput/xgboost-2022-07-11-12-32-07-905/rule-output/ProfilerReport-1657542727/profiler-output/profiler-reports/Dataloader.json'},\n",
       "   {'Key': '/xg-boost-as-an-builtin-algo/ouput/xgboost-2022-07-11-12-38-52-410/rule-output/ProfilerReport-1657543132/profiler-output/profiler-reports/OverallFrameworkMetrics.json'},\n",
       "   {'Key': '/xg-boost-as-an-builtin-algo/ouput/xgboost-2022-07-11-12-38-52-410/rule-output/ProfilerReport-1657543132/profiler-output/profiler-report.html'},\n",
       "   {'Key': '/xg-boost-as-an-builtin-algo/ouput/xgboost-2022-07-11-12-32-07-905/profiler-output/system/incremental/2022071112/1657542780.algo-1.json'},\n",
       "   {'Key': '/xg-boost-as-an-builtin-algo/ouput/xgboost-2022-07-11-12-32-07-905/rule-output/ProfilerReport-1657542727/profiler-output/profiler-reports/GPUMemoryIncrease.json'},\n",
       "   {'Key': '/xg-boost-as-an-builtin-algo/ouput/xgboost-2022-07-11-12-40-17-155/rule-output/ProfilerReport-1657543217/profiler-output/profiler-reports/OverallFrameworkMetrics.json'},\n",
       "   {'Key': '/xg-boost-as-an-builtin-algo/ouput/xgboost-2022-07-11-12-32-07-905/rule-output/ProfilerReport-1657542727/profiler-output/profiler-reports/BatchSize.json'},\n",
       "   {'Key': '/xg-boost-as-an-builtin-algo/ouput/xgboost-2022-07-11-12-32-07-905/rule-output/ProfilerReport-1657542727/profiler-output/profiler-reports/LoadBalancing.json'},\n",
       "   {'Key': '/xg-boost-as-an-builtin-algo/ouput/xgboost-2022-07-11-12-40-17-155/rule-output/ProfilerReport-1657543217/profiler-output/profiler-report.html'},\n",
       "   {'Key': '/xg-boost-as-an-builtin-algo/ouput/xgboost-2022-07-11-12-40-17-155/profiler-output/system/incremental/2022071112/1657543260.algo-1.json'},\n",
       "   {'Key': '/xg-boost-as-an-builtin-algo/ouput/xgboost-2022-07-11-12-40-17-155/rule-output/ProfilerReport-1657543217/profiler-output/profiler-report.ipynb'},\n",
       "   {'Key': '/xg-boost-as-an-builtin-algo/ouput/xgboost-2022-07-11-12-32-07-905/profiler-output/framework/training_job_end.ts'},\n",
       "   {'Key': '/xg-boost-as-an-builtin-algo/ouput/xgboost-2022-07-11-12-38-52-410/rule-output/ProfilerReport-1657543132/profiler-output/profiler-report.ipynb'},\n",
       "   {'Key': '/xg-boost-as-an-builtin-algo/ouput/xgboost-2022-07-11-12-38-52-410/rule-output/ProfilerReport-1657543132/profiler-output/profiler-reports/StepOutlier.json'},\n",
       "   {'Key': '/xg-boost-as-an-builtin-algo/ouput/xgboost-2022-07-11-12-40-17-155/profiler-output/system/incremental/2022071112/1657543380.algo-1.json'},\n",
       "   {'Key': '/xg-boost-as-an-builtin-algo/ouput/xgboost-2022-07-11-12-38-52-410/rule-output/ProfilerReport-1657543132/profiler-output/profiler-reports/LoadBalancing.json'},\n",
       "   {'Key': '/xg-boost-as-an-builtin-algo/ouput/xgboost-2022-07-11-12-40-17-155/rule-output/ProfilerReport-1657543217/profiler-output/profiler-reports/IOBottleneck.json'},\n",
       "   {'Key': '/xg-boost-as-an-builtin-algo/ouput/xgboost-2022-07-11-12-40-17-155/profiler-output/system/incremental/2022071112/1657543320.algo-1.json'},\n",
       "   {'Key': '/xg-boost-as-an-builtin-algo/ouput/xgboost-2022-07-11-12-32-07-905/rule-output/ProfilerReport-1657542727/profiler-output/profiler-report.html'},\n",
       "   {'Key': '/xg-boost-as-an-builtin-algo/ouput/xgboost-2022-07-11-12-38-52-410/rule-output/ProfilerReport-1657543132/profiler-output/profiler-reports/OverallSystemUsage.json'},\n",
       "   {'Key': '/xg-boost-as-an-builtin-algo/ouput/xgboost-2022-07-11-12-40-17-155/rule-output/ProfilerReport-1657543217/profiler-output/profiler-reports/CPUBottleneck.json'},\n",
       "   {'Key': '/xg-boost-as-an-builtin-algo/ouput/xgboost-2022-07-11-12-32-07-905/rule-output/ProfilerReport-1657542727/profiler-output/profiler-report.ipynb'},\n",
       "   {'Key': '/xg-boost-as-an-builtin-algo/ouput/xgboost-2022-07-11-12-40-17-155/rule-output/ProfilerReport-1657543217/profiler-output/profiler-reports/LoadBalancing.json'},\n",
       "   {'Key': '/xg-boost-as-an-builtin-algo/ouput/xgboost-2022-07-11-12-38-52-410/rule-output/ProfilerReport-1657543132/profiler-output/profiler-reports/Dataloader.json'},\n",
       "   {'Key': '/xg-boost-as-an-builtin-algo/ouput/xgboost-2022-07-11-12-40-17-155/rule-output/ProfilerReport-1657543217/profiler-output/profiler-reports/GPUMemoryIncrease.json'},\n",
       "   {'Key': '/xg-boost-as-an-builtin-algo/ouput/xgboost-2022-07-11-12-38-52-410/profiler-output/system/incremental/2022071112/1657543320.algo-1.json'},\n",
       "   {'Key': '/xg-boost-as-an-builtin-algo/ouput/xgboost-2022-07-11-12-38-52-410/profiler-output/system/incremental/2022071112/1657543200.algo-1.json'},\n",
       "   {'Key': '/xg-boost-as-an-builtin-algo/ouput/xgboost-2022-07-11-12-32-07-905/rule-output/ProfilerReport-1657542727/profiler-output/profiler-reports/LowGPUUtilization.json'},\n",
       "   {'Key': '/xg-boost-as-an-builtin-algo/ouput/xgboost-2022-07-11-12-32-07-905/rule-output/ProfilerReport-1657542727/profiler-output/profiler-reports/StepOutlier.json'},\n",
       "   {'Key': '/xg-boost-as-an-builtin-algo/ouput/xgboost-2022-07-11-12-40-17-155/profiler-output/framework/training_job_end.ts'}]}]"
      ]
     },
     "execution_count": 112,
     "metadata": {},
     "output_type": "execute_result"
    }
   ],
   "source": [
    "bucket_to_delete = boto3.resource('s3').Bucket(bucket_name)\n",
    "bucket_to_delete.objects.all().delete()"
   ]
  },
  {
   "cell_type": "markdown",
   "id": "dbf6c745",
   "metadata": {},
   "source": [
    "### finish man...."
   ]
  },
  {
   "cell_type": "code",
   "execution_count": null,
   "id": "4bcc46a3",
   "metadata": {},
   "outputs": [],
   "source": []
  }
 ],
 "metadata": {
  "kernelspec": {
   "display_name": "conda_python3",
   "language": "python",
   "name": "conda_python3"
  },
  "language_info": {
   "codemirror_mode": {
    "name": "ipython",
    "version": 3
   },
   "file_extension": ".py",
   "mimetype": "text/x-python",
   "name": "python",
   "nbconvert_exporter": "python",
   "pygments_lexer": "ipython3",
   "version": "3.6.13"
  }
 },
 "nbformat": 4,
 "nbformat_minor": 5
}
